{
 "cells": [
  {
   "cell_type": "markdown",
   "metadata": {},
   "source": [
    "# Introduction\n",
    "\n",
    "In this assessment, you will complete several requested SQL queries in order to extact data and insights from a single provided SQL database. You will also visualize the key results of 3 of these queries.\n",
    "\n",
    "## Objectives\n",
    "You will be able to:\n",
    "- Interpret \"word problems\" and translate them into SQL queries\n",
    "- Decide and perform whichever type of JOIN is best for retrieving desired data\n",
    "- Use GROUP BY statements in SQL to apply aggregate functions like COUNT, MAX, MIN, and SUM\n",
    "- Use the HAVING clause to compare different aggregates\n",
    "- Write subqueries to decompose complex queries\n",
    "- Visualize data using matplotlib, seaborn, and pandas\n",
    "- Choose the correct chart type based on the given data\n"
   ]
  },
  {
   "cell_type": "markdown",
   "metadata": {},
   "source": [
    "### Your Task: Querying a Customer Database\n",
    "\n",
    "![toy car picture](images/toycars.jpg)\n"
   ]
  },
  {
   "cell_type": "markdown",
   "metadata": {},
   "source": [
    "### Business Understanding\n",
    "Your employer makes miniature models of products such as classic cars, motorcycles, and planes. They want you to pull several reports on different segments of their past customers, in order to better understand past sales as well as determine which customers will receive promotional material. \n",
    "\n",
    "As well as providing the requested data from the SQL database you have also been asked to create some basic visuals to display some of the more insightful information. It is up to your discretion to choose the correct plot/chart type for the data in question. Questions that want you to visualize the results will be explicitly marked.\n",
    "\n",
    "### Data Understanding\n",
    "You may remember this database from a previous lab. As a refresher, here's the ERD diagram for this database:\n",
    "\n",
    "![ERD picture](images/ERD.png)\n",
    "\n",
    "The queries you are asked to write will become more complex over the course of the lab.\n",
    "\n"
   ]
  },
  {
   "cell_type": "markdown",
   "metadata": {},
   "source": [
    "### Getting Started\n",
    "As in previous labs, you'll make use of the sqlite3 library as well as pandas. By combining them, you'll be able to write queries as Python strings, then display the results in a conveniently-formatted dataframe.\n",
    "\n",
    "Note: Throughout this lesson, for any query the only thing you will need to change is the content of the strings containing the SQL queries. You do NOT need to modify any of the code relating to pandas; this is just to help make the output more readable.\n",
    "\n",
    "In the cell below, we:\n",
    "- Import the necessary libraries, pandas and sqlite3\n",
    "- Establish a connection to the database data.sqlite, called conn"
   ]
  },
  {
   "cell_type": "code",
   "execution_count": null,
   "metadata": {},
   "outputs": [],
   "source": [
    "# Run this cell without changes\n",
    "# Imports\n",
    "import sqlite3\n",
    "import pandas as pd\n",
    "import matplotlib.pyplot as plt\n",
    "import seaborn as sns\n",
    "\n",
    "# Create connection to database\n",
    "conn = sqlite3.Connection(\"data.sqlite\")"
   ]
  },
  {
   "cell_type": "markdown",
   "metadata": {},
   "source": [
    "The basic structure of a query in this assessment is:\n",
    "- Write the SQL query inside of the Python string\n",
    "- pd.read_sql is used to produce the resulting information in a pandas dataframe\n",
    "\n",
    "For example, if we wanted to select a list of all product lines from the company, that would look like this:\n"
   ]
  },
  {
   "cell_type": "code",
   "execution_count": null,
   "metadata": {},
   "outputs": [],
   "source": [
    "# Run this cell without changes\n",
    "q0 = \"\"\"\n",
    "SELECT productline\n",
    "FROM productlines\n",
    ";\n",
    "\"\"\"\n",
    "\n",
    "q0_result = pd.read_sql(q0, conn)\n",
    "q0_result"
   ]
  },
  {
   "cell_type": "markdown",
   "metadata": {},
   "source": [
    "From now on, you will replace None within these Python strings with the actual SQL query code."
   ]
  },
  {
   "cell_type": "markdown",
   "metadata": {},
   "source": [
    "### Part 1: Basic Queries\n",
    "First, let's review some basic SQL queries, which do not require any joining, aggregation, or subqueries.\n",
    "\n",
    "#### Query 1: Customers with Credit Over 25,000 in California\n",
    "Write a query that returns the contact first name, contact last name, phone number, address line 1, and credit limit for all customers in California with a credit limit greater than 25000$.\n",
    "\n",
    "(California means that the state value is 'CA')\n",
    "\n",
    "#### Expected Output:\n",
    "![q1](images/q1.png)"
   ]
  },
  {
   "cell_type": "code",
   "execution_count": null,
   "metadata": {},
   "outputs": [],
   "source": [
    "# Replace None with your code\n",
    "q1 = \"\"\"\n",
    "None\n",
    "\"\"\"\n",
    "\n",
    "# Query to dataframe\n",
    "q1_result = pd.read_sql(q1, conn)\n",
    "q1_result"
   ]
  },
  {
   "cell_type": "markdown",
   "metadata": {},
   "source": [
    "#### Query 2: Customers Outside of the USA with \"Collect\" in Their Name\n",
    "\n",
    "Write a query that gets the customer name, state, and country, for all customers outside of the USA with \"Collect\" as part of their customer name.\n",
    "\n",
    "We are looking for customers with names like \"Australian Collectors, Co.\" or \"BG&E Collectables\", where country is not \"USA\".\n",
    "\n",
    "#### Expected Output:\n",
    "\n",
    "![q2](images/q2.png)"
   ]
  },
  {
   "cell_type": "code",
   "execution_count": null,
   "metadata": {},
   "outputs": [],
   "source": [
    "# Replace None with your code\n",
    "q2 = \"\"\"\n",
    "None\n",
    "\"\"\"\n",
    "\n",
    "# Query to dataframe\n",
    "q2_result = pd.read_sql(q2, conn)\n",
    "q2_result"
   ]
  },
  {
   "cell_type": "markdown",
   "metadata": {},
   "source": [
    "#### Query 3: Customers without Null States\n",
    "Write a query that gets the full address (line 1, line 2, city, state, postal code, country) for all customers where the state field is not null.\n",
    "\n",
    "Here we'll only display the first 10 results for truncation purposes.\n",
    "\n",
    "#### Expected Output:\n",
    "\n",
    "![q3](images/q3.png)"
   ]
  },
  {
   "cell_type": "code",
   "execution_count": null,
   "metadata": {},
   "outputs": [],
   "source": [
    "# Replace None with your code\n",
    "q3 = \"\"\"\n",
    "None\n",
    "\"\"\"\n",
    "\n",
    "# Query to dataframe\n",
    "q3_result = pd.read_sql(q3, conn)\n",
    "q3_result.head(10)"
   ]
  },
  {
   "cell_type": "markdown",
   "metadata": {},
   "source": [
    "### Part 2: Aggregate and Join Queries\n",
    "#### Query 4: Average Credit Limit by State in USA - Visual Required\n",
    "Write a query that gets the average credit limit per state in the USA.\n",
    "\n",
    "The two fields selected should be state and average_credit_limit, which is the average of the creditLimit field for that state.\n",
    "\n",
    "Once you have the information returned in a dataframe select an appropriate visualization to represent this data. You are welcome to utilize matplotlib, seaborn, or pandas plotting to produce your visual. Ensure that it has a verbose title and axis labels!\n",
    "\n",
    "#### Expected Output:\n",
    "![q4](images/q4.png)"
   ]
  },
  {
   "cell_type": "code",
   "execution_count": null,
   "metadata": {},
   "outputs": [],
   "source": [
    "# Replace None with your code\n",
    "q4 = \"\"\"\n",
    "None\n",
    "\"\"\"\n",
    "\n",
    "# Query to dataframe\n",
    "q4_result = pd.read_sql(q4, conn)\n",
    "q4_result"
   ]
  },
  {
   "cell_type": "code",
   "execution_count": null,
   "metadata": {},
   "outputs": [],
   "source": [
    "# Replace None with your visual code\n",
    "# Produce a visual to represent the average credit limit by state\n",
    "None "
   ]
  },
  {
   "cell_type": "markdown",
   "metadata": {},
   "source": [
    "#### Query 5: Joining Customers and Orders\n",
    "Write a query that uses JOIN statements to get the customer name, order number, and status for all orders. For this example, stick to a simple join and avoid using sub-queries.\n",
    " \n",
    "Refer to the ERD above to understand which tables contain these pieces of information, and the relationship between these tables.\n",
    "\n",
    "Here we'll only display the first 15 results for truncation purposes.\n",
    "\n",
    "#### Expected Output:\n",
    "![q5](images/q5.png)\n"
   ]
  },
  {
   "cell_type": "code",
   "execution_count": null,
   "metadata": {},
   "outputs": [],
   "source": [
    "# Replace None with your code\n",
    "q5 = \"\"\"\n",
    "None\n",
    "\"\"\"\n",
    "\n",
    "# Query to dataframe\n",
    "q5_result = pd.read_sql(q5, conn)\n",
    "q5_result.head(15)"
   ]
  },
  {
   "cell_type": "markdown",
   "metadata": {},
   "source": [
    "#### Query 6: Total Payments - Visual Required\n",
    "Write a query that uses JOIN statements to get top 10 customers in terms of total payment amount. Return the customer name, customer number, and sum of all payments made. The results should be ordered by the sum of payments made, starting from the highest value.\n",
    "\n",
    "The three columns selected should be customerName, customerNumber and total_payment_amount.\n",
    "\n",
    "Once you have the information returned in a dataframe select an appropriate visualization to represent this data. You are welcome to utilize matplotlib, seaborn, or pandas plotting to produce your visual. Ensure that it has a verbose title and axis labels!\n",
    "\n",
    "#### Expected Output:\n",
    "\n",
    "![q6](images/q6.png)"
   ]
  },
  {
   "cell_type": "code",
   "execution_count": null,
   "metadata": {},
   "outputs": [],
   "source": [
    "# Replace None with your code\n",
    "q6 = \"\"\"\n",
    "None\n",
    "\"\"\"\n",
    "\n",
    "# Query to dataframe\n",
    "q6_result = pd.read_sql(q6, conn)\n",
    "q6_result"
   ]
  },
  {
   "cell_type": "code",
   "execution_count": null,
   "metadata": {},
   "outputs": [],
   "source": [
    "# Replace None with your visual code\n",
    "# Produce a visual to represent the top ten customers in terms of total payments\n",
    "None "
   ]
  },
  {
   "cell_type": "markdown",
   "metadata": {},
   "source": [
    "#### Query 7: Products that Have Been Purchased 10 or More Times\n",
    "Write a query that, for each customer, finds all of the products that they have purchased 10 or more times cumulatively. For each record, return the customer name, customer number, product name, product code, and total number ordered. Sort the rows in ascending order by the quantity ordered.\n",
    "\n",
    "The five columns selected should be customerName, customerNumber, productName, productCode, and total_ordered, where total_ordered is the sum of all quantities of that product ordered by that customer.\n",
    "\n",
    "Once you have the information returned in a dataframe select an appropriate visualization to represent this data. You are welcome to utilize matplotlib, seaborn, or pandas plotting to produce your visual. Ensure that it has a verbose title and axis labels!\n",
    "\n",
    "Hint: For this one, you'll need to make use of HAVING, GROUP BY, and ORDER BY — make sure you get the order of them correct!\n",
    "\n",
    "#### Expected Output:\n",
    "\n",
    "![q7](images/q7.png)\n"
   ]
  },
  {
   "cell_type": "code",
   "execution_count": null,
   "metadata": {},
   "outputs": [],
   "source": [
    "# Replace None with you code\n",
    "q7 = \"\"\"\n",
    "None\n",
    "\"\"\"\n",
    "\n",
    "\n",
    "# Query to dataframe\n",
    "q7_result = pd.read_sql(q7, conn)\n",
    "q7_result"
   ]
  },
  {
   "cell_type": "markdown",
   "metadata": {},
   "source": [
    "#### Query 8: Number of Products and Total Quantity Ordered for each Product Line - Visual Required\n",
    "\n",
    "Write a query that returns the total quantity of units ordered, aliased as total_ordered, and the number of distinct products, aliased as number_of_products, for each productLine in the dataset.\n",
    "\n",
    "Once you have the information returned in a dataframe select an appropriate visualization to represent this data. You are welcome to utilize matplotlib, seaborn, or pandas plotting to produce your visual. Ensure that it has a verbose title and axis labels!\n",
    "\n",
    "Hint: Think about how you can and might have to utilize SQL DISTINCT statement\n",
    "\n",
    "#### Expected Output:\n",
    "\n",
    "![q8](images/q8.png)"
   ]
  },
  {
   "cell_type": "code",
   "execution_count": null,
   "metadata": {},
   "outputs": [],
   "source": [
    "# Replace None with your code\n",
    "q8 = \"\"\"\n",
    "None\n",
    "\"\"\"\n",
    "\n",
    "# Query to dataframe\n",
    "q8_result = pd.read_sql(q8, conn)\n",
    "q8_result"
   ]
  },
  {
   "cell_type": "code",
   "execution_count": null,
   "metadata": {},
   "outputs": [],
   "source": [
    "# Replace None with your visual code\n",
    "# Produce a visual to represent the the relation between number of products and the total amount ordered\n",
    "None "
   ]
  },
  {
   "cell_type": "markdown",
   "metadata": {},
   "source": [
    "#### Query 9: Employees in Offices with Fewer than Five Employees\n",
    "Finally, get the last name, first name, employee number, and office code for employees from offices with fewer than 5 employees.\n",
    "\n",
    "Hint: Use a subquery to find the relevant offices.\n",
    "\n",
    "#### Expected Output:\n",
    "\n",
    "![q8](images/q9.png)"
   ]
  },
  {
   "cell_type": "code",
   "execution_count": null,
   "metadata": {},
   "outputs": [],
   "source": [
    "# Replace None with your code\n",
    "q9 = \"\"\"\n",
    "None\n",
    "\"\"\"\n",
    "\n",
    "# Query to dataframe\n",
    "q9_result = pd.read_sql(q8, conn)\n",
    "q9_result"
   ]
  },
  {
   "cell_type": "markdown",
   "metadata": {},
   "source": [
    "#### Summary\n",
    "In this assessment, you produced several data queries and visualizations for a model company, mainly focused around its customer data. \n",
    "\n",
    "Along the way, you utilized many of the major concepts and keywords associated with SQL SELECT queries: FROM, WHERE, GROUP BY, HAVING, ORDER BY, JOIN, SUM, COUNT, and AVG."
   ]
  }
 ],
 "metadata": {
  "kernelspec": {
   "display_name": "test-env01",
   "language": "python",
   "name": "python3"
  },
  "language_info": {
   "codemirror_mode": {
    "name": "ipython",
    "version": 3
   },
   "file_extension": ".py",
   "mimetype": "text/x-python",
   "name": "python",
   "nbconvert_exporter": "python",
   "pygments_lexer": "ipython3",
   "version": "3.12.4"
  }
 },
 "nbformat": 4,
 "nbformat_minor": 2
}
