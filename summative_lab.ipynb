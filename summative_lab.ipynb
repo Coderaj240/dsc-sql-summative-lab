{
 "cells": [
  {
   "cell_type": "markdown",
   "metadata": {},
   "source": [
    "# Introduction\n",
    "\n",
    "In this assessment, you will complete several requested SQL queries in order to extact data, analyze, and provide insights from a single provided SQL database. You will also visualize the key results of 3 of these queries.\n",
    "\n",
    "## Objectives\n",
    "You will be able to:\n",
    "- Interpret \"word problems\" and translate them into SQL queries\n",
    "- Decide and perform whichever type of JOIN is best for retrieving desired data\n",
    "- Use GROUP BY statements in SQL to apply aggregate functions like COUNT, MAX, MIN, and SUM\n",
    "- Use the HAVING clause to compare different aggregates\n",
    "- Write subqueries to decompose complex queries\n",
    "- Visualize data using matplotlib, seaborn, and pandas\n",
    "- Choose the correct chart type based on the given data\n"
   ]
  },
  {
   "cell_type": "markdown",
   "metadata": {},
   "source": [
    "### Your Task: Querying a Customer Database\n",
    "\n",
    "![toy car picture](images/toycars.jpg)\n"
   ]
  },
  {
   "cell_type": "markdown",
   "metadata": {},
   "source": [
    "### Business Understanding\n",
    "Your employer sells wholesale miniature models of products such as classic cars, motorcycles, and planes. They want you to pull several reports on different segments of their past customers, in order to better understand past sales as well as determine which customers will receive promotional material. They are also interested in investigating which products have performed the best, as well as having several smaller asks.\n",
    "\n",
    "In addition to providing the requested data from the SQL database you have also been asked to create some basic visuals to display some of the more insightful information. It is up to your discretion to choose the correct plot/chart type for the data in question. Questions that want you to visualize the results will be explicitly marked.\n",
    "\n",
    "### Data Understanding\n",
    "You may remember this database from a previous lab. As a refresher, here's the ERD diagram for this database:\n",
    "\n",
    "![ERD picture](images/ERD.png)\n",
    "\n",
    "The queries you are asked to write will become more complex over the course of the lab.\n",
    "\n"
   ]
  },
  {
   "cell_type": "markdown",
   "metadata": {},
   "source": [
    "### Getting Started\n",
    "For this assessment you are expected to make use of both sqlite3 and the Pandas libraries in order to write, execute, and return SQL queries as a Pandas DataFrame. Assign each returned answer as it's own explicit variable.\n",
    "\n",
    "For the visualization piece you are expected to utlize either Pandas, Seaborn, or Matplotlib to create your visuals. Make sure you are providing verbose labels and titles according the data being asked to visaulize. Do not worry too much about choosing a 'style' or 'context' instead focus on conveying the requested information correctly.\n",
    "\n",
    "### Step 1\n",
    "\n",
    "In the cell below\n",
    "- Import the necessary libraries\n",
    "- Establish a connection to the database data.sqlite"
   ]
  },
  {
   "cell_type": "code",
   "execution_count": null,
   "metadata": {},
   "outputs": [],
   "source": [
    "# Replace None with your code\n",
    "# Imports\n",
    "None\n",
    "\n",
    "# Create connection to database\n",
    "None"
   ]
  },
  {
   "cell_type": "markdown",
   "metadata": {},
   "source": [
    "### Step 2: Limited Edition California Product\n",
    "The california sales rep team is interested in running promotional material for a new limited edition model they are releasing based on the famous San Fransisco Cable Cars. This product will only be avaivable to customer stores based in California and given its high price value they want to first target promotional material to exisiting California customers with a high credit limit. Upon communicating with the Accounting department, a credit limit of over 25,000 is considered to be high. \n",
    "\n",
    "Execute a SQl query that returns which customers the sales rep team wants to market to first."
   ]
  },
  {
   "cell_type": "code",
   "execution_count": null,
   "metadata": {},
   "outputs": [],
   "source": [
    "# Replace None with your code\n",
    "None"
   ]
  },
  {
   "cell_type": "markdown",
   "metadata": {},
   "source": [
    "### Step 2: International Collectable Campaign\n",
    "\n",
    "The international sales rep team has reached out to you to help them identify partners for a 'Collectable' marketing campaign that highlights the potential collectors value in purchasing these model kits. They want to try and promote a 'collect them all' mentality. The team had a great idea to partner with any of their international customers who have \"Collect\" in their name as a tie in to the larger theme.\n",
    "\n",
    "Execute a SQL that returns the customers in question."
   ]
  },
  {
   "cell_type": "code",
   "execution_count": null,
   "metadata": {},
   "outputs": [],
   "source": [
    "# Replace None with your code\n",
    "None"
   ]
  },
  {
   "cell_type": "markdown",
   "metadata": {},
   "source": [
    "#### Step 3: USA Credit and Iventory Policy - Visual Required\n",
    "The USA based product team is planning to adjust its credit policies and inventory allocation strategy based on the average credit limit of its customers. They would like to target this strategy at a state level with several goals in mind. \n",
    "1. Optimize inventory distribution:\n",
    "    - States with higher average credit limits might be able to place larger orders, justifying priority in inventory allocation.\n",
    "    - This could help ensure that states with more purchasing power always have products in stock.\n",
    "2. Tailor credit policies:\n",
    "    - Adjust credit limits for new customers based on the state average.\n",
    "    - Identify states where they might be too conservative or too liberal with credit limits.\n",
    "3. Target marketing and sales efforts:\n",
    "    - Focus promotional campaigns on states with higher credit limits, potentially leading to larger orders.\n",
    "    - Develop strategies to increase sales in states with lower average credit limits.\n",
    "\n",
    "Execute a SQl query that returns the information required to address this ask."
   ]
  },
  {
   "cell_type": "code",
   "execution_count": null,
   "metadata": {},
   "outputs": [],
   "source": [
    "# Replace None with your code\n",
    "None"
   ]
  },
  {
   "cell_type": "markdown",
   "metadata": {},
   "source": [
    "Once you have the information returned in a dataframe, select an appropriate visualization to represent this data. You are welcome to utilize matplotlib, seaborn, or pandas plotting to produce your visual. Ensure that it has a verbose title and axis labels!"
   ]
  },
  {
   "cell_type": "code",
   "execution_count": null,
   "metadata": {},
   "outputs": [],
   "source": [
    "# Replace None with your visual code\n",
    "# Produce a visual to represent the average credit limit by state\n",
    "None "
   ]
  },
  {
   "cell_type": "markdown",
   "metadata": {},
   "source": [
    "### Step 4: Top Customers - Visual Required\n",
    "The company is approaching its 10 year anniversary and wants to acknowledge and thank its top customers with personalized communication. They have asked you to determine the top 10 customers based on the total amount of payments made, make sure to return the customer name for clarity. \n",
    "\n",
    "Execute a SQl query that returns the information required to address this ask.\n"
   ]
  },
  {
   "cell_type": "code",
   "execution_count": 16,
   "metadata": {},
   "outputs": [],
   "source": [
    "# Replace None with your code\n",
    "None"
   ]
  },
  {
   "cell_type": "markdown",
   "metadata": {},
   "source": [
    "Once you have the information returned in a dataframe, select an appropriate visualization to represent this data. You are welcome to utilize matplotlib, seaborn, or pandas plotting to produce your visual. Ensure that it has a verbose title and axis labels!"
   ]
  },
  {
   "cell_type": "code",
   "execution_count": null,
   "metadata": {},
   "outputs": [],
   "source": [
    "# Replace None with your visual code\n",
    "# Produce a visual to represent the top ten customers in terms of total payments\n",
    "None "
   ]
  },
  {
   "cell_type": "markdown",
   "metadata": {},
   "source": [
    "### Step 5: Top Customer + Product Quantities\n",
    "The product team is running an analysis on popular and common products sold to each customer in order to try and determine what new products they should be looking at to include in their catalog. This data will also be used by individual sales reps to recommend similar products to each customer next time they place an order. \n",
    "\n",
    "They have asked you to query information, for each customer, about any product they have purchased 10 or more units of. In addition they would like the full set of data to be sorted in ascending order by the total amount purchased.\n",
    "\n",
    "Execute a SQl query that returns the information required to address this ask.\n",
    "\n",
    "Hint: For this one, you'll need to make use of HAVING, GROUP BY, and ORDER BY — make sure you get the order of them correct!"
   ]
  },
  {
   "cell_type": "code",
   "execution_count": null,
   "metadata": {},
   "outputs": [],
   "source": [
    "# Replace None with you code\n",
    "None"
   ]
  },
  {
   "cell_type": "markdown",
   "metadata": {},
   "source": [
    "### Step 6: Product Analysis - Visual Required\n",
    "\n",
    "The product team is looking into the demand across its different product lines. They are conducting a comprehensive review of its product portfolio and inventory management strategies. You have been asked to query data pertaining to each different product line, that contains the total quantity ordered and the total number of products for each respective product line. By examining the number of products and total quantity ordered for each product line, the company aims to:\n",
    "1. Optimize product mix:\n",
    "    - Identify which product lines have the most diverse offerings (high number of products)\n",
    "    - Determine which lines are most popular (high total quantity ordered)\n",
    "    - Compare if lines with more products necessarily lead to more orders\n",
    "2. Improve inventory management:\n",
    "    - Adjust stock levels based on the popularity of each product line\n",
    "    - Identify potential overstocking in lines with low order quantities\n",
    "    - Ensure adequate variety in high-performing product lines\n",
    "3. Adjust marketing strategy:\n",
    "    - Focus promotional efforts on product lines with high potential (many products but lower order quantities)\n",
    "    - Capitalize on the popularity of high-performing lines in marketing campaigns\n",
    "4. Advise Product development:\n",
    "    - Invest in expanding product ranges for lines with high order quantities\n",
    "    - Consider phasing out or revamping product lines with low numbers of products and low order quantities\n",
    "\n",
    "Hint: Think about how you can and might have to utilize SQL DISTINCT statement\n",
    "\n",
    "Execute a SQl query that returns the information required to address this ask."
   ]
  },
  {
   "cell_type": "code",
   "execution_count": 17,
   "metadata": {},
   "outputs": [],
   "source": [
    "# Replace None with your code\n",
    "None"
   ]
  },
  {
   "cell_type": "markdown",
   "metadata": {},
   "source": [
    "Once you have the information returned in a dataframe, select an appropriate visualization to represent the relationship between total quantity ordered and the number of products in order to perform a preliminary investigation into the question of if more products lead to more orders. You are welcome to utilize matplotlib, seaborn, or pandas plotting to produce your visual. Ensure that it has a verbose title and axis labels!"
   ]
  },
  {
   "cell_type": "code",
   "execution_count": null,
   "metadata": {},
   "outputs": [],
   "source": [
    "# Replace None with your visual code\n",
    "# Produce a visual to represent the the relation between number of products and the total amount ordered\n",
    "None "
   ]
  },
  {
   "cell_type": "markdown",
   "metadata": {},
   "source": [
    "### Step 7: Remote Offices\n",
    "Upper management is considering a shift to hybrid and remote work for certain locations and roles. They have tasked you with providing them data about employees who work in any office that has fewer than 5 total employees so they can better understand how to support those employees remotely when offices are shutdown. \n",
    "\n",
    "Be sure to include information about the employees job and supervisor so management can adjust everyone to remote work properly.\n",
    "\n",
    "Execute a SQl query that returns the information required to address this ask."
   ]
  },
  {
   "cell_type": "code",
   "execution_count": null,
   "metadata": {},
   "outputs": [],
   "source": [
    "# Replace None with your code\n",
    "None"
   ]
  },
  {
   "cell_type": "markdown",
   "metadata": {},
   "source": [
    "#### Summary\n",
    "In this assessment, you produced several data queries and visualizations for a model company, mainly focused around its customer and product data. \n",
    "\n",
    "Along the way, you utilized many of the major concepts and keywords associated with SQL SELECT queries: FROM, WHERE, GROUP BY, HAVING, ORDER BY, JOIN, SUM, COUNT, and AVG."
   ]
  }
 ],
 "metadata": {
  "kernelspec": {
   "display_name": "test-env01",
   "language": "python",
   "name": "python3"
  },
  "language_info": {
   "codemirror_mode": {
    "name": "ipython",
    "version": 3
   },
   "file_extension": ".py",
   "mimetype": "text/x-python",
   "name": "python",
   "nbconvert_exporter": "python",
   "pygments_lexer": "ipython3",
   "version": "3.12.4"
  }
 },
 "nbformat": 4,
 "nbformat_minor": 2
}
